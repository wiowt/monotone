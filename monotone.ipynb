{
 "cells": [
  {
   "cell_type": "code",
   "execution_count": 71,
   "source": [
    "import numpy as np\n",
    "import pandas as pd\n",
    "import seaborn as sns\n",
    "from matplotlib import pyplot as plt\n",
    "plt.style.use('ggplot')\n",
    "import scipy.stats as ss\n",
    "from scipy.interpolate import PchipInterpolator, CubicSpline"
   ],
   "outputs": [],
   "metadata": {}
  },
  {
   "cell_type": "code",
   "execution_count": 72,
   "source": [
    "df = pd.read_excel('Credit_Ratings_development_CTF_v0.xlsx')\n",
    "df"
   ],
   "outputs": [
    {
     "output_type": "execute_result",
     "data": {
      "text/html": [
       "<div>\n",
       "<style scoped>\n",
       "    .dataframe tbody tr th:only-of-type {\n",
       "        vertical-align: middle;\n",
       "    }\n",
       "\n",
       "    .dataframe tbody tr th {\n",
       "        vertical-align: top;\n",
       "    }\n",
       "\n",
       "    .dataframe thead th {\n",
       "        text-align: right;\n",
       "    }\n",
       "</style>\n",
       "<table border=\"1\" class=\"dataframe\">\n",
       "  <thead>\n",
       "    <tr style=\"text-align: right;\">\n",
       "      <th></th>\n",
       "      <th>Fitch_grade</th>\n",
       "      <th>Fitch_observed_DR</th>\n",
       "      <th>Moodys_grade</th>\n",
       "      <th>Moodys_observed_DR</th>\n",
       "      <th>SnP_grade</th>\n",
       "      <th>SnP_observed_DR</th>\n",
       "    </tr>\n",
       "  </thead>\n",
       "  <tbody>\n",
       "    <tr>\n",
       "      <th>0</th>\n",
       "      <td>AAA</td>\n",
       "      <td>0.0012</td>\n",
       "      <td>Aaa</td>\n",
       "      <td>0.0000</td>\n",
       "      <td>AAA</td>\n",
       "      <td>0.0000</td>\n",
       "    </tr>\n",
       "    <tr>\n",
       "      <th>1</th>\n",
       "      <td>AA+</td>\n",
       "      <td>0.0000</td>\n",
       "      <td>Aa1</td>\n",
       "      <td>0.0000</td>\n",
       "      <td>AA+</td>\n",
       "      <td>0.0000</td>\n",
       "    </tr>\n",
       "    <tr>\n",
       "      <th>2</th>\n",
       "      <td>AA</td>\n",
       "      <td>0.0000</td>\n",
       "      <td>Aa2</td>\n",
       "      <td>0.0000</td>\n",
       "      <td>AA</td>\n",
       "      <td>0.0002</td>\n",
       "    </tr>\n",
       "    <tr>\n",
       "      <th>3</th>\n",
       "      <td>AA-</td>\n",
       "      <td>0.0008</td>\n",
       "      <td>Aa3</td>\n",
       "      <td>0.0004</td>\n",
       "      <td>AA-</td>\n",
       "      <td>0.0003</td>\n",
       "    </tr>\n",
       "    <tr>\n",
       "      <th>4</th>\n",
       "      <td>A+</td>\n",
       "      <td>0.0000</td>\n",
       "      <td>A1</td>\n",
       "      <td>0.0006</td>\n",
       "      <td>A+</td>\n",
       "      <td>0.0005</td>\n",
       "    </tr>\n",
       "    <tr>\n",
       "      <th>5</th>\n",
       "      <td>A</td>\n",
       "      <td>0.0007</td>\n",
       "      <td>A2</td>\n",
       "      <td>0.0004</td>\n",
       "      <td>A</td>\n",
       "      <td>0.0005</td>\n",
       "    </tr>\n",
       "    <tr>\n",
       "      <th>6</th>\n",
       "      <td>A-</td>\n",
       "      <td>0.0006</td>\n",
       "      <td>A3</td>\n",
       "      <td>0.0006</td>\n",
       "      <td>A-</td>\n",
       "      <td>0.0006</td>\n",
       "    </tr>\n",
       "    <tr>\n",
       "      <th>7</th>\n",
       "      <td>BBB+</td>\n",
       "      <td>0.0009</td>\n",
       "      <td>Baa1</td>\n",
       "      <td>0.0012</td>\n",
       "      <td>BBB+</td>\n",
       "      <td>0.0010</td>\n",
       "    </tr>\n",
       "    <tr>\n",
       "      <th>8</th>\n",
       "      <td>BBB</td>\n",
       "      <td>0.0006</td>\n",
       "      <td>Baa2</td>\n",
       "      <td>0.0016</td>\n",
       "      <td>BBB</td>\n",
       "      <td>0.0016</td>\n",
       "    </tr>\n",
       "    <tr>\n",
       "      <th>9</th>\n",
       "      <td>BBB-</td>\n",
       "      <td>0.0026</td>\n",
       "      <td>Baa3</td>\n",
       "      <td>0.0022</td>\n",
       "      <td>BBB-</td>\n",
       "      <td>0.0025</td>\n",
       "    </tr>\n",
       "    <tr>\n",
       "      <th>10</th>\n",
       "      <td>BB+</td>\n",
       "      <td>0.0030</td>\n",
       "      <td>Ba1</td>\n",
       "      <td>0.0040</td>\n",
       "      <td>BB+</td>\n",
       "      <td>0.0031</td>\n",
       "    </tr>\n",
       "    <tr>\n",
       "      <th>11</th>\n",
       "      <td>BB</td>\n",
       "      <td>0.0057</td>\n",
       "      <td>Ba2</td>\n",
       "      <td>0.0068</td>\n",
       "      <td>BB</td>\n",
       "      <td>0.0051</td>\n",
       "    </tr>\n",
       "    <tr>\n",
       "      <th>12</th>\n",
       "      <td>BB-</td>\n",
       "      <td>0.0107</td>\n",
       "      <td>Ba3</td>\n",
       "      <td>0.0127</td>\n",
       "      <td>BB-</td>\n",
       "      <td>0.0091</td>\n",
       "    </tr>\n",
       "    <tr>\n",
       "      <th>13</th>\n",
       "      <td>B+</td>\n",
       "      <td>0.0119</td>\n",
       "      <td>B1</td>\n",
       "      <td>0.0182</td>\n",
       "      <td>B+</td>\n",
       "      <td>0.0198</td>\n",
       "    </tr>\n",
       "    <tr>\n",
       "      <th>14</th>\n",
       "      <td>B</td>\n",
       "      <td>0.0207</td>\n",
       "      <td>B2</td>\n",
       "      <td>0.0281</td>\n",
       "      <td>B</td>\n",
       "      <td>0.0320</td>\n",
       "    </tr>\n",
       "    <tr>\n",
       "      <th>15</th>\n",
       "      <td>B-</td>\n",
       "      <td>0.0295</td>\n",
       "      <td>B3</td>\n",
       "      <td>0.0437</td>\n",
       "      <td>B-</td>\n",
       "      <td>0.0649</td>\n",
       "    </tr>\n",
       "    <tr>\n",
       "      <th>16</th>\n",
       "      <td>CCC+</td>\n",
       "      <td>0.2212</td>\n",
       "      <td>Caa1</td>\n",
       "      <td>0.0400</td>\n",
       "      <td>CCC+</td>\n",
       "      <td>0.2708</td>\n",
       "    </tr>\n",
       "    <tr>\n",
       "      <th>17</th>\n",
       "      <td>CCC</td>\n",
       "      <td>0.2212</td>\n",
       "      <td>Caa2</td>\n",
       "      <td>0.0817</td>\n",
       "      <td>CCC</td>\n",
       "      <td>0.2708</td>\n",
       "    </tr>\n",
       "    <tr>\n",
       "      <th>18</th>\n",
       "      <td>CCC-</td>\n",
       "      <td>0.2212</td>\n",
       "      <td>Caa3</td>\n",
       "      <td>0.1815</td>\n",
       "      <td>CCC-</td>\n",
       "      <td>0.2708</td>\n",
       "    </tr>\n",
       "    <tr>\n",
       "      <th>19</th>\n",
       "      <td>CC</td>\n",
       "      <td>0.2212</td>\n",
       "      <td>Ca</td>\n",
       "      <td>0.2813</td>\n",
       "      <td>CC</td>\n",
       "      <td>0.2708</td>\n",
       "    </tr>\n",
       "    <tr>\n",
       "      <th>20</th>\n",
       "      <td>C</td>\n",
       "      <td>0.2212</td>\n",
       "      <td>C</td>\n",
       "      <td>0.2813</td>\n",
       "      <td>NaN</td>\n",
       "      <td>NaN</td>\n",
       "    </tr>\n",
       "  </tbody>\n",
       "</table>\n",
       "</div>"
      ],
      "text/plain": [
       "   Fitch_grade  Fitch_observed_DR Moodys_grade  Moodys_observed_DR SnP_grade  \\\n",
       "0          AAA             0.0012          Aaa              0.0000       AAA   \n",
       "1          AA+             0.0000          Aa1              0.0000       AA+   \n",
       "2           AA             0.0000          Aa2              0.0000        AA   \n",
       "3          AA-             0.0008          Aa3              0.0004       AA-   \n",
       "4           A+             0.0000           A1              0.0006        A+   \n",
       "5            A             0.0007           A2              0.0004         A   \n",
       "6           A-             0.0006           A3              0.0006        A-   \n",
       "7         BBB+             0.0009         Baa1              0.0012      BBB+   \n",
       "8          BBB             0.0006         Baa2              0.0016       BBB   \n",
       "9         BBB-             0.0026         Baa3              0.0022      BBB-   \n",
       "10         BB+             0.0030          Ba1              0.0040       BB+   \n",
       "11          BB             0.0057          Ba2              0.0068        BB   \n",
       "12         BB-             0.0107          Ba3              0.0127       BB-   \n",
       "13          B+             0.0119           B1              0.0182        B+   \n",
       "14           B             0.0207           B2              0.0281         B   \n",
       "15          B-             0.0295           B3              0.0437        B-   \n",
       "16        CCC+             0.2212         Caa1              0.0400      CCC+   \n",
       "17         CCC             0.2212         Caa2              0.0817       CCC   \n",
       "18        CCC-             0.2212         Caa3              0.1815      CCC-   \n",
       "19          CC             0.2212           Ca              0.2813        CC   \n",
       "20           C             0.2212            C              0.2813       NaN   \n",
       "\n",
       "    SnP_observed_DR  \n",
       "0            0.0000  \n",
       "1            0.0000  \n",
       "2            0.0002  \n",
       "3            0.0003  \n",
       "4            0.0005  \n",
       "5            0.0005  \n",
       "6            0.0006  \n",
       "7            0.0010  \n",
       "8            0.0016  \n",
       "9            0.0025  \n",
       "10           0.0031  \n",
       "11           0.0051  \n",
       "12           0.0091  \n",
       "13           0.0198  \n",
       "14           0.0320  \n",
       "15           0.0649  \n",
       "16           0.2708  \n",
       "17           0.2708  \n",
       "18           0.2708  \n",
       "19           0.2708  \n",
       "20              NaN  "
      ]
     },
     "metadata": {},
     "execution_count": 72
    }
   ],
   "metadata": {}
  },
  {
   "cell_type": "markdown",
   "source": [
    "Далее они будут пронумерованы от 0 до 20"
   ],
   "metadata": {}
  },
  {
   "cell_type": "code",
   "execution_count": 73,
   "source": [
    "\n",
    "fitch_interpol = PchipInterpolator(np.arange(len(df['Fitch_observed_DR'])),df['Fitch_observed_DR'].sort_values())"
   ],
   "outputs": [],
   "metadata": {}
  },
  {
   "cell_type": "code",
   "execution_count": 74,
   "source": [
    "fitch_result = fitch_interpol.__call__(np.linspace(0,len(df['Fitch_observed_DR']),10000))"
   ],
   "outputs": [],
   "metadata": {}
  },
  {
   "cell_type": "code",
   "execution_count": 75,
   "source": [
    "fitch_result = pd.Series(fitch_result)\n",
    "fitch_result.index = np.linspace(0,20,10000)"
   ],
   "outputs": [],
   "metadata": {}
  },
  {
   "cell_type": "code",
   "execution_count": 76,
   "source": [
    "fig = plt.figure(figsize=(10, 8))\n",
    "plt.title('Fitch', weight=\"bold\")\n",
    "fitch_result.plot()\n",
    "df['Fitch_observed_DR'].plot()"
   ],
   "outputs": [
    {
     "output_type": "execute_result",
     "data": {
      "text/plain": [
       "<AxesSubplot:title={'center':'Fitch'}>"
      ]
     },
     "metadata": {},
     "execution_count": 76
    },
    {
     "output_type": "display_data",
     "data": {
      "image/png": "[encoded data removed]",
      "text/plain": [
       "<Figure size 720x576 with 1 Axes>"
      ]
     },
     "metadata": {}
    }
   ],
   "metadata": {}
  },
  {
   "cell_type": "code",
   "execution_count": 77,
   "source": [
    "moodys_interpol = PchipInterpolator(np.arange(len(df['Moodys_observed_DR'])),df['Moodys_observed_DR'].sort_values())\n",
    "moodys_result = moodys_interpol.__call__(np.linspace(0,len(df['Moodys_observed_DR']),10000))\n",
    "moodys_result = pd.Series(moodys_result)\n",
    "moodys_result.index = np.linspace(0,20,10000)\n",
    "fig = plt.figure(figsize=(10, 8))\n",
    "plt.title('Moodys', weight=\"bold\")\n",
    "moodys_result.plot()\n",
    "df['Moodys_observed_DR'].plot()"
   ],
   "outputs": [
    {
     "output_type": "execute_result",
     "data": {
      "text/plain": [
       "<AxesSubplot:title={'center':'Moodys'}>"
      ]
     },
     "metadata": {},
     "execution_count": 77
    },
    {
     "output_type": "display_data",
     "data": {
      "image/png": "[encoded data removed]",
      "text/plain": [
       "<Figure size 720x576 with 1 Axes>"
      ]
     },
     "metadata": {}
    }
   ],
   "metadata": {}
  },
  {
   "cell_type": "code",
   "execution_count": 78,
   "source": [
    "df = df.drop(index =20)\n",
    "snp_interpol = PchipInterpolator(np.arange(len(df['SnP_observed_DR'])),df['SnP_observed_DR'].sort_values())\n",
    "snp_result = snp_interpol.__call__(np.linspace(0,len(df['SnP_observed_DR']),10000))\n",
    "snp_result = pd.Series(snp_result)\n",
    "snp_result.index = np.linspace(0,19,10000)\n",
    "fig = plt.figure(figsize=(10, 8))\n",
    "plt.title('SnP', weight=\"bold\")\n",
    "snp_result.plot()\n",
    "df['SnP_observed_DR'].plot()"
   ],
   "outputs": [
    {
     "output_type": "execute_result",
     "data": {
      "text/plain": [
       "<AxesSubplot:title={'center':'SnP'}>"
      ]
     },
     "metadata": {},
     "execution_count": 78
    },
    {
     "output_type": "display_data",
     "data": {
      "image/png": "[encoded data removed]",
      "text/plain": [
       "<Figure size 720x576 with 1 Axes>"
      ]
     },
     "metadata": {}
    }
   ],
   "metadata": {}
  }
 ],
 "metadata": {
  "orig_nbformat": 4,
  "language_info": {
   "name": "python",
   "version": "3.8.8",
   "mimetype": "text/x-python",
   "codemirror_mode": {
    "name": "ipython",
    "version": 3
   },
   "pygments_lexer": "ipython3",
   "nbconvert_exporter": "python",
   "file_extension": ".py"
  },
  "kernelspec": {
   "name": "python3",
   "display_name": "Python 3.8.8 64-bit ('base': conda)"
  },
  "interpreter": {
   "hash": "7575e73e028d4a0a543711b9e21b77a1a9034858a78688719c8704162be119d2"
  }
 },
 "nbformat": 4,
 "nbformat_minor": 2
}